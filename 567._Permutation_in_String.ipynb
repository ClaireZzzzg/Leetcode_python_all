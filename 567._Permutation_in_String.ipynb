{
 "cells": [
  {
   "cell_type": "markdown",
   "metadata": {},
   "source": [
    "### 567. Permutation in String\n",
    "题目： \n",
    "<https://leetcode.com/problems/permutation-in-string/description/>\n",
    "\n",
    "Given two strings s1 and s2, return true if s2 contains a permutation of s1, or false otherwise.\n",
    "In other words, return true if one of s1's permutations is the substring of s2.\n",
    "\n",
    "难度 : Medium\n",
    "\n",
    "\n",
    "> Example 1:\n",
    "\n",
    "\n",
    "- Input: s1 = \"ab\", s2 = \"eidbaooo\"\n",
    "- Output: true\n",
    "- Explanation: s2 contains one permutation of s1 (\"ba\").\n",
    "\n",
    "> Example 2:\n",
    "\n",
    "- Input: s1 = \"ab\", s2 = \"eidboaoo\"\n",
    "- Output: false\n"
   ]
  },
  {
   "cell_type": "markdown",
   "metadata": {},
   "source": [
    "### 解题方案"
   ]
  },
  {
   "cell_type": "markdown",
   "metadata": {},
   "source": [
    "相当给你一个 S 和一个 T，请问你 S 中是否存在一个子串，包含 T 中所有字符且不包含其他字符."
   ]
  },
  {
   "cell_type": "markdown",
   "metadata": {},
   "source": [
    "#### 方法1"
   ]
  },
  {
   "cell_type": "markdown",
   "metadata": {},
   "source": [
    "1 - Sorting:\n",
    "\n",
    "One string is a permutation of another if they are the same string when sorted.\n",
    "Hence, sort s1 and then sort the substrings of s2 that are of the same size\n",
    "and compare\n",
    "Time: O(n)O(k^2)O(klogk) = O(nk^3logk)"
   ]
  },
  {
   "cell_type": "code",
   "execution_count": 2,
   "metadata": {},
   "outputs": [],
   "source": [
    "class Solution:\n",
    "    def checkInclusion(self, s1: str, s2: str) -> bool:\n",
    "        if s2 and not s1:\n",
    "            return True\n",
    "        \n",
    "        # sort s1\n",
    "        s1 = \"\".join(sorted(list(s1)))\n",
    "        k = len(s1)\n",
    "        \n",
    "         # sort the substrings of s2 that are of the same size\n",
    "        for i in range(len(s2)): # -- O(n)\n",
    "            sub = s2[i:i+k] # -- O(k)\n",
    "            sub_str = \"\".join(sorted(list(sub)))  # ---- [1] \n",
    "            \n",
    "            if s1 == sub_str:\n",
    "                return True\n",
    "        return False\n",
    "    \n",
    "        # COMMENT [1]:\n",
    "        # ------------\n",
    "        # Runtime of that line = O(klogk) * O(k) * O(K)\n",
    "        # Sorting and converting from string to list and back into a string"
   ]
  },
  {
   "cell_type": "markdown",
   "metadata": {},
   "source": [
    "#### 方法2"
   ]
  },
  {
   "cell_type": "markdown",
   "metadata": {},
   "source": [
    "2- Hashtable\n",
    "\n",
    "One string is a permutation of another if the two strings have the same character frequencies\n",
    "Hence:\n",
    "find freq dict for s1\n",
    "find freq dict for substrings of s2 (that are the same size as s1)\n",
    "runtime: O(n*k)"
   ]
  },
  {
   "cell_type": "code",
   "execution_count": 8,
   "metadata": {},
   "outputs": [],
   "source": [
    "class Solution:\n",
    "         def checkInclusion(self, s1: str, s2: str) -> bool:\n",
    "               from collections import Counter\n",
    "               d1 = Counter(s1)\n",
    "               k = len(s1)\n",
    "               for i in range(len(s2)):  # ---- O(n)\n",
    "                    sub = s2[i:i+k]  # ------ O(k)\n",
    "                    d2 = Counter(sub) # --- O(k)\n",
    "                    if d1 == d2:\n",
    "                         return True\n",
    "               return False"
   ]
  },
  {
   "cell_type": "markdown",
   "metadata": {},
   "source": [
    "### 方法3\n",
    "\n",
    "3- Rolling Hash\n",
    "\n",
    "Enhanced freq dict - (Rolling hashmap)\n",
    "\n",
    "simiar problem: 438. Find All Anagrams in a String\n",
    "\n",
    "instead of generating a fresh freq hashmap for every new substring\n",
    "\n",
    "build the freq dict for the initial window and then slide the window_dict\n",
    "(add/remove chars) by adjusting their frequinces.\n",
    "\n",
    "removing one preceding character and adding a new succeeding character to the new window"
   ]
  },
  {
   "cell_type": "code",
   "execution_count": 18,
   "metadata": {},
   "outputs": [],
   "source": [
    "class Solution:\n",
    "         def checkInclusion(self, s1: str, s2: str) -> bool:\n",
    "              k = len(s1)\n",
    "              from collections import Counter\n",
    "              d1 = Counter(s1)\n",
    "               \n",
    "               # initial window\n",
    "              window = s2[:k]\n",
    "              d2 = Counter(window)\n",
    "              \n",
    "              # check the intial window\n",
    "              if d1 == d2:\n",
    "                   return True\n",
    "              for i in range(len(s2)-k):\n",
    "                    \n",
    "                   # SLIDE THE WINDOW\n",
    "                   # 1 - remove s2[i]\n",
    "                    if d2[s2[i]] == 1:\n",
    "                         del d2[s2[i]]\n",
    "                    elif d2[s2[i]] > 1:\n",
    "                         d2[s2[i]] -= 1\n",
    "                                   \n",
    "                         # 2- add s2[i+k]\n",
    "                    if s2[i+k] in d2:\n",
    "                         d2[s2[i+k]] += 1\n",
    "                    else:\n",
    "                         d2[s2[i+k]] = 1\n",
    "                                        \n",
    "                         # check after sliding\n",
    "                    if d1 == d2:\n",
    "                         return True\n",
    "                              \n",
    "              return False"
   ]
  },
  {
   "cell_type": "markdown",
   "metadata": {},
   "source": []
  }
 ],
 "metadata": {
  "kernelspec": {
   "display_name": "Python 3.9.9 64-bit",
   "language": "python",
   "name": "python3"
  },
  "language_info": {
   "codemirror_mode": {
    "name": "ipython",
    "version": 3
   },
   "file_extension": ".py",
   "mimetype": "text/x-python",
   "name": "python",
   "nbconvert_exporter": "python",
   "pygments_lexer": "ipython3",
   "version": "3.9.9"
  },
  "orig_nbformat": 4,
  "vscode": {
   "interpreter": {
    "hash": "aee8b7b246df8f9039afb4144a1f6fd8d2ca17a180786b69acc140d282b71a49"
   }
  }
 },
 "nbformat": 4,
 "nbformat_minor": 2
}
